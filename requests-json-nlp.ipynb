{
 "cells": [
  {
   "cell_type": "markdown",
   "metadata": {},
   "source": [
    "# Web Mining and Applied NLP (44-620)\n",
    "\n",
    "## Requests, JSON, and NLP\n",
    "\n",
    "### Student Name: Dylan Eggemeyer\n",
    "\n",
    "Perform the tasks described in the Markdown cells below.  When you have completed the assignment make sure your code cells have all been run (and have output beneath them) and ensure you have committed and pushed ALL of your changes to your assignment repository.\n",
    "\n",
    "Make sure you have [installed spaCy and its pipeline](https://spacy.io/usage#quickstart) and [spaCyTextBlob](https://spacy.io/universe/project/spacy-textblob)\n",
    "\n",
    "Every question that requires you to write code will have a code cell underneath it; you may either write your entire solution in that cell or write it in a python file (`.py`), then import and run the appropriate code to answer the question.\n",
    "\n",
    "This assignment requires that you write additional files (either JSON or pickle files); make sure to submit those files in your repository as well."
   ]
  },
  {
   "cell_type": "markdown",
   "metadata": {},
   "source": [
    "### Question 1 \n",
    "I used the poetrydb.org api instead to get poems"
   ]
  },
  {
   "cell_type": "markdown",
   "metadata": {},
   "source": [
    "1. The following code accesses the [lyrics.ovh](https://lyricsovh.docs.apiary.io/#reference/0/lyrics-of-a-song/search) public api, searches for the lyrics of a song, and stores it in a dictionary object.  Write the resulting json to a file (either a JSON file or a pickle file; you choose). You will read in the contents of this file for future questions so we do not need to frequently access the API."
   ]
  },
  {
   "cell_type": "code",
   "execution_count": 1,
   "metadata": {},
   "outputs": [],
   "source": [
    "import requests\n",
    "import json\n",
    "\n",
    "result = json.loads(requests.get('https://poetrydb.org/author,title/Edgar Allan Poe;The Raven').text)\n",
    "\n",
    "poem = json.dumps(result, indent=2)\n",
    "\n",
    "with open('poe.json', 'w') as convert_file:\n",
    "     convert_file.write(poem)\n",
    "\n",
    "\n"
   ]
  },
  {
   "cell_type": "markdown",
   "metadata": {},
   "source": [
    "### Question 2"
   ]
  },
  {
   "cell_type": "markdown",
   "metadata": {},
   "source": [
    "2. Read in the contents of your file.  Print the lyrics of the song (not the entire dictionary!) and use spaCyTextBlob to perform sentiment analysis on the lyrics.  Print the polarity score of the sentiment analysis.  Given that the range of the polarity score is `[-1.0,1.0]` which corresponds to how positive or negative the text in question is, do you think the lyrics have a more positive or negative connotaion?  Answer this question in a comment in your code cell."
   ]
  },
  {
   "cell_type": "code",
   "execution_count": 16,
   "metadata": {},
   "outputs": [
    {
     "name": "stdout",
     "output_type": "stream",
     "text": [
      "Once upon a midnight dreary, while I pondered, weak and weary, Over many a quaint and curious volume of forgotten lore-- While I nodded, nearly napping, suddenly there came a tapping, As of some one gently rapping--rapping at my chamber door. \"'Tis some visitor,\" I muttered, \"tapping at my chamber door--         Only this and nothing more.\"  Ah, distinctly I remember, it was in the bleak December, And each separate dying ember wrought its ghost upon the floor. Eagerly I wished the morrow;--vainly I had sought to borrow From my books surcease of sorrow--sorrow for the lost Lenore-- For the rare and radiant maiden whom the angels name Lenore--         Nameless here for evermore.  And the silken sad uncertain rustling of each purple curtain Thrilled me--filled me with fantastic terrors never felt before; So that now, to still the beating of my heart, I stood repeating \"'Tis some visitor entreating entrance at my chamber door-- Some late visitor entreating entrance at my chamber door;--     This it is and nothing more.\"  Presently my soul grew stronger; hesitating then no longer, \"Sir,\" said I, \"or Madam, truly your forgiveness I implore; But the fact is I was napping, and so gently you came rapping, And so faintly you came tapping--tapping at my chamber door, That I scarce was sure I heard you\"--here I opened wide the door:--       Darkness there and nothing more.  Deep into that darkness peering, long I stood there wondering,   fearing, Doubting, dreaming dreams no mortal ever dared to dream before; But the silence was unbroken, and the darkness gave no token, And the only word there spoken was the whispered word, \"Lenore!\" This I whispered, and an echo murmured back the word, \"Lenore!\"       Merely this and nothing more.  Back into the chamber turning, all my soul within me burning, Soon I heard again a tapping, somewhat louder than before. \"Surely,\" said I, \"surely that is something at my window lattice; Let me see, then, what thereat is, and this mystery explore-- Let my heart be still a moment, and this mystery explore;--     'Tis the wind and nothing more.\"  Open here I flung the shutter, when, with many a flirt and flutter, In there stepped a stately Raven of the saintly days of yore; Not the least obeisance made he: not an instant stopped or stayed he; But, with mien of lord or lady, perched above my chamber door-- Perched upon a bust of Pallas just above my chamber door--     Perched, and sat, and nothing more.  Then this ebony bird beguiling my sad fancy into smiling, By the grave and stern decorum of the countenance it wore, \"Though thy crest be shorn and shaven, thou,\" I said, \"art sure no   craven, Ghastly grim and ancient Raven wandering from the Nightly shore-- Tell me what thy lordly name is on the Night's Plutonian shore!\"       Quoth the Raven, \"Nevermore.\"  Much I marvelled this ungainly fowl to hear discourse so plainly, Though its answer little meaning--little relevancy bore; For we cannot help agreeing that no living human being Ever yet was blessed with seeing bird above his chamber door-- Bird or beast upon the sculptured bust above his chamber door,       With such name as \"Nevermore.\"  But the Raven, sitting lonely on that placid bust, spoke only That one word, as if his soul in that one word he did outpour. Nothing further then he uttered--not a feather then he fluttered-- Till I scarcely more than muttered, \"Other friends have flown before-- On the morrow _he_ will leave me, as my hopes have flown before.\"       Then the bird said, \"Nevermore.\"  Startled at the stillness broken by reply so aptly spoken, \"Doubtless,\" said I, \"what it utters is its only stock and store, Caught from some unhappy master whom unmerciful Disaster Followed fast and followed faster till his songs one burden bore-- Till the dirges of his Hope the melancholy burden bore     Of 'Never--nevermore.'\"  But the Raven still beguiling all my sad soul into smiling, Straight I wheeled a cushioned seat in front of bird and bust and   door; Then, upon the velvet sinking, I betook myself to linking Fancy unto fancy, thinking what this ominous bird of yore-- What this grim, ungainly, ghastly, gaunt, and ominous bird of yore     Meant in croaking \"Nevermore.\"  This I sat engaged in guessing, but no syllable expressing To the fowl whose fiery eyes now burned into my bosom's core; This and more I sat divining, with my head at ease reclining On the cushion's velvet lining that the lamp-light gloated o'er, But whose velvet violet lining with the lamp-light gloating o'er,       _She_ shall press, ah, nevermore!  Then, methought, the air grew denser, perfumed from an unseen censer Swung by Seraphim whose foot-falls tinkled on the tufted floor. \"Wretch,\" I cried, \"thy God hath lent thee--by these angels he hath   sent thee Respite--respite aad nepenthé from thy memories of Lenore! Quaff, oh quaff this kind nepenthé, and forget this lost Lenore!\"       Quoth the Raven, \"Nevermore.\"  \"Prophet!\" said I, \"thing of evil!--prophet still, if bird or devil!-- Whether Tempter sent, or whether tempest tossed thee here ashore, Desolate yet all undaunted, on this desert land enchanted-- On this home by Horror haunted--tell me truly, I implore-- Is there--_is_ there balm in Gilead?--tell me--tell me, I implore!\"     Quoth the Raven, \"Nevermore.\"  \"Prophet!\" said I, \"thing of evil!--prophet still, if bird or devil! By that Heaven that bends above us--by that God we both adore-- Tell this soul with sorrow laden if, within the distant Aidenn, It shall clasp a sainted maiden whom the angels name Lenore-- Clasp a rare and radiant maiden whom the angels name Lenore.\"       Quoth the Raven, \"Nevermore.\"  \"Be that word our sign of parting, bird or fiend!\" I shrieked,   upstarting-- \"Get thee back into the tempest and the Night's Plutonian shore! Leave no black plume as a token of that lie thy soul hath spoken! Leave my loneliness unbroken!--quit the bust above my door! Take thy beak from out my heart, and take thy form from off my door!\"     Quoth the Raven, \"Nevermore.\"  And the Raven, never flitting, still is sitting, still is sitting On the pallid bust of Pallas just above my chamber door; And his eyes have all the seeming of a demon's that is dreaming, And the lamp-light o'er him streaming throws his shadow on the floor; And my soul from out that shadow that lies floating on the floor     Shall be lifted--nevermore!\n",
      "\n",
      "The polarity of The Raven is 0.03847439660795825\n"
     ]
    }
   ],
   "source": [
    "lines = json.load(open('poe.json'))\n",
    "my_list = lines[0]['lines']\n",
    "only_lines = ' '.join(my_list)\n",
    "print(only_lines)\n",
    "\n",
    "import spacy\n",
    "from spacytextblob.spacytextblob import SpacyTextBlob\n",
    "\n",
    "nlp = spacy.load('en_core_web_sm')\n",
    "nlp.add_pipe('spacytextblob')\n",
    "text = only_lines\n",
    "doc = nlp(text)\n",
    "pol = doc._.blob.polarity\n",
    "\n",
    "print()\n",
    "print('The polarity of The Raven is',pol)\n",
    "\n",
    "\n",
    "# The polarity in The Raven came out to 0.038 which is almost perfectly in the middle. This would indicate that the poem is neutral."
   ]
  },
  {
   "cell_type": "markdown",
   "metadata": {},
   "source": [
    "### Question 3"
   ]
  },
  {
   "cell_type": "markdown",
   "metadata": {},
   "source": [
    "3. Write a function that takes an artist, song, and filename, accesses the lyrics.ovh api to get the song lyrics, and writes the results to the specified filename.  Test this function by getting the lyrics to any four songs of your choice and storing them in different files."
   ]
  },
  {
   "cell_type": "code",
   "execution_count": 22,
   "metadata": {},
   "outputs": [],
   "source": [
    "def get_poem(input_author,input_title):\n",
    "    url = f'https://poetrydb.org/author,title/{input_author};{input_title}'\n",
    "    poem_result = json.loads(requests.get(url).text)\n",
    "    poem_json = json.dumps(poem_result, indent=2)\n",
    "    with open(f'{input_author}_{input_title}.json', 'w') as convert_file:\n",
    "     convert_file.write(poem_json)\n",
    "\n",
    "get_poem('Robert Browning','Incident of the French Camp')\n",
    "get_poem('Julia Ward Howe','Mother Mind')\n",
    "get_poem('Wilfred Owen','Winter Song')\n",
    "get_poem('Richard Crashaw','But Men Loved Darkness rather than Light')"
   ]
  },
  {
   "cell_type": "markdown",
   "metadata": {},
   "source": [
    "### Question 3"
   ]
  },
  {
   "cell_type": "markdown",
   "metadata": {},
   "source": [
    "4. Write a function that takes the name of a file that contains song lyrics, loads the file, performs sentiment analysis, and returns the polarity score.  Use this function to print the polarity scores (with the name of the song) of the three files you created in question 3.  Does the reported polarity match your understanding of the song's lyrics? Why or why not do you think that might be?  Answer the questions in either a comment in the code cell or a markdown cell under the code cell."
   ]
  },
  {
   "cell_type": "code",
   "execution_count": 26,
   "metadata": {},
   "outputs": [
    {
     "name": "stdout",
     "output_type": "stream",
     "text": [
      "The polarity of Mother Mind by Julia Ward Howe is 0.34930555555555554\n",
      "The polarity of But Men Loved Darkness rather than Light by Richard Crashaw is 0.12083333333333335\n",
      "The polarity of Incident of the French Camp by Robert Browning is -0.05225919913419914\n",
      "The polarity of Winter Song by Wilfred Owen is -0.0913888888888889\n"
     ]
    }
   ],
   "source": [
    "def get_polarity(file):\n",
    "    lines = json.load(open(file))\n",
    "    my_list = lines[0]['lines']\n",
    "    only_lines = ' '.join(my_list)\n",
    "    nlp = spacy.load('en_core_web_sm')\n",
    "    nlp.add_pipe('spacytextblob')\n",
    "    text = only_lines\n",
    "    doc = nlp(text)\n",
    "    pol = doc._.blob.polarity\n",
    "    poem = lines[0]['title']\n",
    "    author = lines[0]['author']\n",
    "    print('The polarity of',poem,'by',author,'is',pol)\n",
    "\n",
    "get_polarity('Julia Ward Howe_Mother Mind.json')\n",
    "get_polarity('Richard Crashaw_But Men Loved Darkness rather than Light.json')\n",
    "get_polarity('Robert Browning_Incident of the French Camp.json')\n",
    "get_polarity('Wilfred Owen_Winter Song.json')\n"
   ]
  },
  {
   "cell_type": "markdown",
   "metadata": {},
   "source": [
    "After reading the poems, I'm not sure the polarity matches the sentiment of the poems. I think this could be due to the poems being written in an older sytle of English, and being stylized for a poem. It seems like the analysis was pretty neutral on most of the poems."
   ]
  }
 ],
 "metadata": {
  "kernelspec": {
   "display_name": "Python 3",
   "language": "python",
   "name": "python3"
  },
  "language_info": {
   "codemirror_mode": {
    "name": "ipython",
    "version": 3
   },
   "file_extension": ".py",
   "mimetype": "text/x-python",
   "name": "python",
   "nbconvert_exporter": "python",
   "pygments_lexer": "ipython3",
   "version": "3.8.11"
  }
 },
 "nbformat": 4,
 "nbformat_minor": 4
}
